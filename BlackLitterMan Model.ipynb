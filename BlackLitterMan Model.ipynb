{
 "cells": [
  {
   "cell_type": "markdown",
   "metadata": {},
   "source": [
    "# Black-Litterman Model"
   ]
  },
  {
   "cell_type": "code",
   "execution_count": 1,
   "metadata": {},
   "outputs": [],
   "source": [
    "from numpy import matrix, array, zeros, empty, sqrt, ones, dot, append, mean, cov, transpose, linspace\n",
    "from numpy.linalg import inv, pinv\n",
    "from pylab import *\n",
    "#from structures.quote import QuoteSeries\n",
    "import scipy.optimize\n",
    "import random\n",
    "import pandas as pd\n",
    "# import pandas_datareader.data as web"
   ]
  },
  {
   "cell_type": "code",
   "execution_count": 2,
   "metadata": {},
   "outputs": [],
   "source": [
    "def loadData(name):\n",
    "    df = pd.read_excel('RRF Asset Allocation Subsector Historical Prices.xlsx',sheet_name=name,skiprows=6)\n",
    "    single_df=df['PX_LAST'].pct_change(-1)\n",
    "    single_df[np.isnan(single_df)] = 0\n",
    "    # single_df = df.iloc[:,:1]\n",
    "    return single_df.to_xarray()"
   ]
  },
  {
   "cell_type": "markdown",
   "metadata": {},
   "source": [
    "names       - array of assets' names \n",
    "<br>\n",
    "prices      - array of historical (daily) prices\n",
    "<br>\n",
    "caps        - array of assets' market capitalizations\n",
    "<br>\n",
    "weights     - array of assets' weights (derived from mkt caps)\n",
    "<br>\n",
    "expreturns  - expected returns based on historical data\n",
    "<br>\n",
    "covars      - covariance matrix between assets based on historical data\n",
    "<br>\n",
    "rf          - risk free rate\n",
    "<br>\n",
    "lmb         - lambda - risk aversion coefficient\n",
    "<br>\n",
    "C           - assets covariance matrix\n",
    "<br>\n",
    "V           - assets variances (diagonal in covariance matrix)\n",
    "<br>\n",
    "W           - assets weights\n",
    "<br>\n",
    "R           - assets returns\n",
    "<br>\n",
    "mean        - portfolio historical return\n",
    "<br>\n",
    "var         - portfolio historical variance\n",
    "<br>\n",
    "Pi          - portfolio equilibrium excess returns\n",
    "<br>\n",
    "tau         - scaling factor for Black-litterman\n"
   ]
  },
  {
   "cell_type": "code",
   "execution_count": 3,
   "metadata": {},
   "outputs": [],
   "source": [
    "def assets_meanvar(daily_return, caps):\n",
    "    returns = np.matrix(daily_return)                         # create numpy matrix from prices\n",
    "    weights = array(caps) / sum(caps)       # create weights\n",
    "\n",
    "    # create matrix of historical returns\n",
    "    rows, cols = returns.shape\n",
    "\n",
    "    # calculate expected returns\n",
    "    expreturns = array([])\n",
    "    for r in range(rows):\n",
    "            expreturns = append(expreturns, mean(returns[r]))\n",
    "    # calculate covariances\n",
    "    covars = cov(returns)\n",
    "\n",
    "    expreturns = (1+expreturns)**250-1      # Annualize expected returns\n",
    "    covars = covars * 250                           # Annualize covariances\n",
    "\n",
    "    return weights, expreturns, covars"
   ]
  },
  {
   "cell_type": "code",
   "execution_count": 4,
   "metadata": {},
   "outputs": [],
   "source": [
    "# Calculates portfolio mean return\n",
    "def port_mean(W, R):\n",
    "        return sum(R*W)\n",
    "\n",
    "# Calculates portfolio variance of returns\n",
    "def port_var(W, C):\n",
    "        return dot(dot(W, C), W)\n",
    "\n",
    "# Combination of the two functions above - mean and variance of returns calculation\n",
    "def port_mean_var(W, R, C):\n",
    "        return port_mean(W, R), port_var(W, C)"
   ]
  },
  {
   "cell_type": "code",
   "execution_count": 5,
   "metadata": {},
   "outputs": [],
   "source": [
    "def print_assets(names, W, R, C):\n",
    "        print(\"%-25s %6s %6s %6s %s\" % (\"Name\", \"Weight\", \"Return\", \"Dev\", \"   Correlations\"))\n",
    "        for i in range(len(names)):\n",
    "                print(\"%-25s %5.1f%% %5.1f%% %5.1f%%    \" % (names[i], 100*W[i], 100*R[i], 100*C[i,i]**.5), end='')\n",
    "                for j in range(i+1):\n",
    "                        corr = C[i,j] / (sqrt(C[i,i]) * (sqrt(C[j,j]))) # calculate correlation from covariance\n",
    "                        print(\"%.3f \" % corr, end='')\n",
    "                print()"
   ]
  },
  {
   "cell_type": "markdown",
   "metadata": {},
   "source": [
    "### Run the functions~"
   ]
  },
  {
   "cell_type": "code",
   "execution_count": 6,
   "metadata": {},
   "outputs": [
    {
     "name": "stdout",
     "output_type": "stream",
     "text": [
      "[0.06884971 0.37879365 0.17711213 0.0367804  0.11215906 0.09502338\n",
      " 0.13128167]\n",
      "0.14849934477298496\n",
      "0.009832097892708813\n"
     ]
    }
   ],
   "source": [
    "# names = ['textiles_LuxGoods','pharm_biot','fin_services','machinery','industrial_engineering','utilities','metal_mining','media','software']\n",
    "# sheetnames = ['MSCI EU TEX,APP,LUXG','FTSE350 PHARM&BIOT','FTSE350 FIN SERVICES','S&P500 MACHINERY','FTSE350 IND ENG','FTSE350 UTILITIES','FTSE350 METALS & MINING','FTSE350 MEDIA','FTSE350 SOFTWARE']\n",
    "\n",
    "#               'pharm_biot':['FTSE350 PHARM&BIOT',194853.10],\n",
    "\n",
    "# 'metal_mining':['FTSE350 METALS & MINING',18920.00]\n",
    "sub_sectors = {'textiles_LuxGoods':['MSCI EU TEX,APP,LUXG', 35416.59],\n",
    "               'pharm_biot':['FTSE350 PHARM&BIOT',194853.10],\n",
    "               'fin_services':['FTSE350 FIN SERVICES',91107.25],\n",
    "               'industrial_engineering':['FTSE350 IND ENG',18920.00],\n",
    "               'utilities':['FTSE350 UTILITIES',57695.11],\n",
    "               'software':['FTSE350 SOFTWARE',48880.44],\n",
    "               'RE_industrial':['FTSENAREIT INDUSTRIAL', 67531.86 ]}\n",
    "names = []\n",
    "prices = []\n",
    "caps = []\n",
    "for sector_name,values in sub_sectors.items():\n",
    "    names.append(sector_name)\n",
    "    data = loadData(values[0])[:365]\n",
    "    prices.append(data)\n",
    "    caps.append(values[1])\n",
    "\n",
    "# Estimate assets's expected return and covariances\n",
    "W, R, C = assets_meanvar(prices, caps)\n",
    "print(W)\n",
    "# Calculate portfolio historical return and variance\n",
    "mean, var = port_mean_var(W, R, C)\n",
    "print(mean)\n",
    "print(var)"
   ]
  },
  {
   "cell_type": "code",
   "execution_count": 7,
   "metadata": {},
   "outputs": [],
   "source": [
    "rf = .015    "
   ]
  },
  {
   "cell_type": "code",
   "execution_count": 8,
   "metadata": {
    "scrolled": false
   },
   "outputs": [
    {
     "name": "stdout",
     "output_type": "stream",
     "text": [
      "Historical Weights\n",
      "Name                      Weight Return    Dev    Correlations\n",
      "textiles_LuxGoods           6.9%  12.0%  20.1%    1.000 \n",
      "pharm_biot                 37.9%  17.1%  16.4%    0.061 1.000 \n",
      "fin_services               17.7%  13.5%  19.3%    0.126 0.341 1.000 \n",
      "industrial_engineering      3.7%   4.3%  23.2%    0.113 0.277 0.734 1.000 \n",
      "utilities                  11.2%   5.9%  20.4%    0.082 0.013 -0.022 0.001 1.000 \n",
      "software                    9.5%  18.2%  22.7%    0.075 0.045 -0.008 -0.001 0.351 1.000 \n",
      "RE_industrial              13.1%  19.8%  17.1%    0.015 -0.021 -0.041 -0.052 0.159 0.059 1.000 \n"
     ]
    }
   ],
   "source": [
    "print(\"Historical Weights\")\n",
    "print_assets(names, W, R, C)"
   ]
  },
  {
   "cell_type": "markdown",
   "metadata": {},
   "source": [
    "### Run different optimisation models"
   ]
  },
  {
   "cell_type": "code",
   "execution_count": 9,
   "metadata": {},
   "outputs": [],
   "source": [
    "# Mean-Variance Optimization (based on historical returns)\n",
    "# optimize_and_display('Optimization based on Historical returns', names, R, C, rf, color='red')\n",
    "# show()\n",
    "\n",
    "# Black-litterman reverse optimization\n",
    "lmb = (mean - rf) / var                         # Calculate return/risk trade-off\n",
    "Pi = dot(dot(lmb, C), W)                        # Calculate equilibrium excess returns\n",
    "\n",
    "# Mean-variance Optimization (based on equilibrium returns)\n",
    "# optimize_and_display('Optimization based on Equilibrium returns', names, Pi+rf, C, rf, color='green')\n",
    "# show()"
   ]
  },
  {
   "cell_type": "markdown",
   "metadata": {},
   "source": [
    "###### Determine View matrix"
   ]
  },
  {
   "cell_type": "code",
   "execution_count": 10,
   "metadata": {},
   "outputs": [
    {
     "name": "stdout",
     "output_type": "stream",
     "text": [
      "[-0.05  0.06  0.    0.    0.03  0.04  0.05]\n"
     ]
    }
   ],
   "source": [
    "# Determine views (Q) and link (P) matrices\n",
    "# Neutral\n",
    "Q1 =np.array([-0.05,0.06,0.0,0.0,0.03,0.04,0.05]) \n",
    "\n",
    "# worse case\n",
    "Q2 =np.array([-0.1,0.03,0.,0.,-0.02,-0.07,0.02]) \n",
    "\n",
    "# best case\n",
    "Q3 =np.array([0.03,0.1,0,0.07,0.05,0.15,0.07]) \n",
    "\n",
    "# print('Views Matrix')\n",
    "print(Q1)"
   ]
  },
  {
   "cell_type": "code",
   "execution_count": 11,
   "metadata": {},
   "outputs": [
    {
     "name": "stdout",
     "output_type": "stream",
     "text": [
      "Link Matrix\n",
      "[[1. 0. 0. 0. 0. 0. 0.]\n",
      " [0. 1. 0. 0. 0. 0. 0.]\n",
      " [0. 0. 1. 0. 0. 0. 0.]\n",
      " [0. 0. 0. 1. 0. 0. 0.]\n",
      " [0. 0. 0. 0. 1. 0. 0.]\n",
      " [0. 0. 0. 0. 0. 1. 0.]\n",
      " [0. 0. 0. 0. 0. 0. 1.]]\n"
     ]
    }
   ],
   "source": [
    "P = np.identity(Q1.shape[0])\n",
    "print('Link Matrix')\n",
    "print(P)"
   ]
  },
  {
   "cell_type": "code",
   "execution_count": 12,
   "metadata": {},
   "outputs": [],
   "source": [
    "tau = .025 # scaling factor"
   ]
  },
  {
   "cell_type": "markdown",
   "metadata": {},
   "source": [
    "###### Calculate Pi"
   ]
  },
  {
   "cell_type": "code",
   "execution_count": 13,
   "metadata": {},
   "outputs": [
    {
     "name": "stdout",
     "output_type": "stream",
     "text": [
      "[0.01139484 0.11618416 0.08115927 0.08071154 0.06378159 0.07313987\n",
      " 0.0534439 ]\n",
      "[-0.01360516  0.10118416  0.08115927  0.08071154  0.03878159  0.01813987\n",
      "  0.0384439 ]\n",
      "[0.05139484 0.13618416 0.08115927 0.11571154 0.07378159 0.12813987\n",
      " 0.0634439 ]\n"
     ]
    }
   ],
   "source": [
    "# Calculate omega - uncertainty matrix about views\n",
    "omega = dot(dot(dot(tau, P), C), transpose(P)) # 0.025 * P * C * transpose(P)\n",
    "# Calculate equilibrium excess returns with views incorporated\n",
    "sub_a = inv(dot(tau, C))\n",
    "sub_b = dot(dot(transpose(P), inv(omega)), P)\n",
    "sub_c = dot(inv(dot(tau, C)), Pi)\n",
    "sub_d1 = dot(dot(transpose(P), inv(omega)), Q1)\n",
    "sub_d2 = dot(dot(transpose(P), inv(omega)), Q2)\n",
    "sub_d3 = dot(dot(transpose(P), inv(omega)), Q3)\n",
    "Pi_1 = dot(inv(sub_a + sub_b), (sub_c + sub_d1))\n",
    "Pi_2 = dot(inv(sub_a + sub_b), (sub_c + sub_d2))\n",
    "Pi_3 = dot(inv(sub_a + sub_b), (sub_c + sub_d3))\n",
    "print(Pi_1)\n",
    "print(Pi_2)\n",
    "print(Pi_3)"
   ]
  },
  {
   "cell_type": "markdown",
   "metadata": {},
   "source": [
    "###### Visualisation"
   ]
  },
  {
   "cell_type": "markdown",
   "metadata": {},
   "source": [
    "Given risk-free rate, assets returns and covariances, this function calculates mean-variance frontier and returns its [x,y] points in two arrays"
   ]
  },
  {
   "cell_type": "code",
   "execution_count": 14,
   "metadata": {},
   "outputs": [],
   "source": [
    "def solve_frontier(R, C, rf):\n",
    "        def fitness(W, R, C, r):\n",
    "                # For given level of return r, find weights which minimizes\n",
    "                # portfolio variance.\n",
    "                mean, var = port_mean_var(W, R, C)\n",
    "                # Big penalty for not meeting stated portfolio return effectively serves as optimization constraint\n",
    "                penalty = 50*abs(mean-r)\n",
    "                return var + penalty\n",
    "        frontier_mean, frontier_var, frontier_weights = [], [], []\n",
    "        n = len(R)      # Number of assets in the portfolio\n",
    "        for r in linspace(min(R), max(R), num=20): # Iterate through the range of returns on Y axis\n",
    "                W = ones([n])/n         # start optimization with equal weights\n",
    "                b_ = [(0,1) for i in range(n)]\n",
    "                c_ = ({'type':'eq', 'fun': lambda W: sum(W)-1. })\n",
    "                optimized = scipy.optimize.minimize(fitness, W, (R, C, r), method='SLSQP', constraints=c_, bounds=b_)\n",
    "                if not optimized.success:\n",
    "                        raise BaseException(optimized.message)\n",
    "                # add point to the min-var frontier [x,y] = [optimized.x, r]\n",
    "                frontier_mean.append(r)                                                 # return\n",
    "                frontier_var.append(port_var(optimized.x, C))   # min-variance based on optimized weights\n",
    "                frontier_weights.append(optimized.x)\n",
    "        return array(frontier_mean), array(frontier_var), frontier_weights"
   ]
  },
  {
   "cell_type": "markdown",
   "metadata": {},
   "source": [
    "Given risk-free rate, assets returns and covariances, this function calculates weights of tangency portfolio with respect to sharpe ratio maximization"
   ]
  },
  {
   "cell_type": "code",
   "execution_count": 15,
   "metadata": {},
   "outputs": [],
   "source": [
    "def solve_weights(R, C, rf):\n",
    "        def fitness(W, R, C, rf):\n",
    "                mean, var = port_mean_var(W, R, C)      # calculate mean/variance of the portfolio\n",
    "                util = (mean - rf) / sqrt(var)          # utility = Sharpe ratio\n",
    "                return 1/util                                           # maximize the utility, minimize its inverse value\n",
    "        n = len(R)\n",
    "        W = ones([n])/n                                         # start optimization with equal weights\n",
    "        b_ = [(0.,1.) for i in range(n)]        # weights for boundaries between 0%..100%. No leverage, no shorting\n",
    "        c_ = ({'type':'eq', 'fun': lambda W: sum(W)-1. })       # Sum of weights must be 100%\n",
    "        optimized = scipy.optimize.minimize(fitness, W, (R, C, rf), method='SLSQP', constraints=c_, bounds=b_)\n",
    "        if not optimized.success:\n",
    "                raise BaseException(optimized.message)\n",
    "        return optimized.x"
   ]
  },
  {
   "cell_type": "code",
   "execution_count": 16,
   "metadata": {},
   "outputs": [],
   "source": [
    "def optimize_and_display(title, names, R, C, rf, color='black'):\n",
    "        # optimize\n",
    "        W = solve_weights(R, C, rf)\n",
    "        mean, var = port_mean_var(W, R, C)                                              # calculate tangency portfolio\n",
    "        f_mean, f_var, f_weights = solve_frontier(R, C, rf)             # calculate min-var frontier\n",
    "\n",
    "        # display min-var frontier\n",
    "        print(title)\n",
    "        print_assets(names, W, R, C)\n",
    "        n = len(names)\n",
    "        scatter([C[i,i]**.5 for i in range(n)], R, marker='x',color=color)  # draw assets\n",
    "        for i in range(n):                                                                              # draw labels\n",
    "                text(C[i,i]**.5, R[i], '  %s'%names[i], verticalalignment='center', color=color)\n",
    "        scatter(var**.5, mean, marker='o', color=color)                 # draw tangency portfolio\n",
    "        plot(f_var**.5, f_mean, color=color)                                    # draw min-var frontier\n",
    "        xlabel('$\\sigma$'), ylabel('$r$')\n",
    "        grid(True)\n"
   ]
  },
  {
   "cell_type": "code",
   "execution_count": 17,
   "metadata": {
    "scrolled": false
   },
   "outputs": [
    {
     "name": "stdout",
     "output_type": "stream",
     "text": [
      "Optimization based on Equilibrium returns with adjusted views(Neutral)\n",
      "Name                      Weight Return    Dev    Correlations\n",
      "textiles_LuxGoods           0.0%   2.6%  20.1%    1.000 \n",
      "pharm_biot                 44.7%  13.1%  16.4%    0.061 1.000 \n",
      "fin_services               11.0%   9.6%  19.3%    0.126 0.341 1.000 \n",
      "industrial_engineering      2.7%   9.6%  23.2%    0.113 0.277 0.734 1.000 \n",
      "utilities                  10.7%   7.9%  20.4%    0.082 0.013 -0.022 0.001 1.000 \n",
      "software                   10.9%   8.8%  22.7%    0.075 0.045 -0.008 -0.001 0.351 1.000 \n",
      "RE_industrial              19.9%   6.8%  17.1%    0.015 -0.021 -0.041 -0.052 0.159 0.059 1.000 \n"
     ]
    },
    {
     "data": {
      "image/png": "[encoded data removed]",
      "text/plain": [
       "<Figure size 432x288 with 1 Axes>"
      ]
     },
     "metadata": {
      "needs_background": "light"
     },
     "output_type": "display_data"
    }
   ],
   "source": [
    "# Mean-variance Optimization (based on equilibrium returns)\n",
    "optimize_and_display('Optimization based on Equilibrium returns with adjusted views(Neutral)', names, Pi_1+rf, C, rf, color='blue')\n",
    "show()"
   ]
  },
  {
   "cell_type": "code",
   "execution_count": 18,
   "metadata": {},
   "outputs": [
    {
     "name": "stdout",
     "output_type": "stream",
     "text": [
      "Optimization based on Equilibrium returns with adjusted views(Best Case)\n",
      "Name                      Weight Return    Dev    Correlations\n",
      "textiles_LuxGoods           5.8%   6.6%  20.1%    1.000 \n",
      "pharm_biot                 40.2%  15.1%  16.4%    0.061 1.000 \n",
      "fin_services                0.0%   9.6%  19.3%    0.126 0.341 1.000 \n",
      "industrial_engineering     11.7%  13.1%  23.2%    0.113 0.277 0.734 1.000 \n",
      "utilities                   5.5%   8.9%  20.4%    0.082 0.013 -0.022 0.001 1.000 \n",
      "software                   18.2%  14.3%  22.7%    0.075 0.045 -0.008 -0.001 0.351 1.000 \n",
      "RE_industrial              18.6%   7.8%  17.1%    0.015 -0.021 -0.041 -0.052 0.159 0.059 1.000 \n"
     ]
    },
    {
     "data": {
      "image/png": "[encoded data removed]",
      "text/plain": [
       "<Figure size 432x288 with 1 Axes>"
      ]
     },
     "metadata": {
      "needs_background": "light"
     },
     "output_type": "display_data"
    }
   ],
   "source": [
    "# Mean-variance Optimization (based on equilibrium returns)\n",
    "optimize_and_display('Optimization based on Equilibrium returns with adjusted views(Best Case)', names, Pi_3+rf, C, rf, color='blue')\n",
    "show()"
   ]
  },
  {
   "cell_type": "code",
   "execution_count": 19,
   "metadata": {},
   "outputs": [
    {
     "name": "stdout",
     "output_type": "stream",
     "text": [
      "Optimization based on Equilibrium returns with adjusted views(Worst Case)\n",
      "Name                      Weight Return    Dev    Correlations\n",
      "textiles_LuxGoods           0.0%   0.1%  20.1%    1.000 \n",
      "pharm_biot                 49.3%  11.6%  16.4%    0.061 1.000 \n",
      "fin_services               16.0%   9.6%  19.3%    0.126 0.341 1.000 \n",
      "industrial_engineering      3.9%   9.6%  23.2%    0.113 0.277 0.734 1.000 \n",
      "utilities                  11.2%   5.4%  20.4%    0.082 0.013 -0.022 0.001 1.000 \n",
      "software                    0.0%   3.3%  22.7%    0.075 0.045 -0.008 -0.001 0.351 1.000 \n",
      "RE_industrial              19.6%   5.3%  17.1%    0.015 -0.021 -0.041 -0.052 0.159 0.059 1.000 \n"
     ]
    },
    {
     "data": {
      "image/png": "[encoded data removed]",
      "text/plain": [
       "<Figure size 432x288 with 1 Axes>"
      ]
     },
     "metadata": {
      "needs_background": "light"
     },
     "output_type": "display_data"
    }
   ],
   "source": [
    "# Mean-variance Optimization (based on equilibrium returns)\n",
    "optimize_and_display('Optimization based on Equilibrium returns with adjusted views(Worst Case)', names, Pi_2+rf, C, rf, color='blue')\n",
    "show()"
   ]
  },
  {
   "cell_type": "code",
   "execution_count": null,
   "metadata": {},
   "outputs": [],
   "source": []
  },
  {
   "cell_type": "code",
   "execution_count": null,
   "metadata": {},
   "outputs": [],
   "source": []
  }
 ],
 "metadata": {
  "kernelspec": {
   "display_name": "Python 3",
   "language": "python",
   "name": "python3"
  },
  "language_info": {
   "codemirror_mode": {
    "name": "ipython",
    "version": 3
   },
   "file_extension": ".py",
   "mimetype": "text/x-python",
   "name": "python",
   "nbconvert_exporter": "python",
   "pygments_lexer": "ipython3",
   "version": "3.6.10"
  }
 },
 "nbformat": 4,
 "nbformat_minor": 4
}
